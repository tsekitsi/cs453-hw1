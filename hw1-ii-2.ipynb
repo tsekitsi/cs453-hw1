{
 "cells": [
  {
   "cell_type": "code",
   "execution_count": 1,
   "metadata": {
    "collapsed": true
   },
   "outputs": [],
   "source": [
    "from scipy.stats import entropy\n",
    "import pandas as pd\n",
    "import numpy as np"
   ]
  },
  {
   "cell_type": "markdown",
   "source": [
    "Load the results of part 1 into a pandas.DataFrame:"
   ],
   "metadata": {
    "collapsed": false
   }
  },
  {
   "cell_type": "code",
   "execution_count": 2,
   "outputs": [],
   "source": [
    "results1 = pd.read_csv('hw1-ii-1.csv')"
   ],
   "metadata": {
    "collapsed": false
   }
  },
  {
   "cell_type": "markdown",
   "source": [
    "Round each number to two decimal places:"
   ],
   "metadata": {
    "collapsed": false
   }
  },
  {
   "cell_type": "code",
   "execution_count": 3,
   "outputs": [],
   "source": [
    "results_rounded = {group_name: np.array(results).round(2) for group_name, results in results1.to_dict('list').items()}"
   ],
   "metadata": {
    "collapsed": false
   }
  },
  {
   "cell_type": "markdown",
   "source": [
    "I will use the Kullback–Leibler divergence ($D_{\\text{KL}}$) to measure the distance of each of the last 3 groups of results from the original results. For discrete probability distributions $P$ and $Q$ defined on the same sample space, $\\mathcal{X}$,\n",
    "$$ D_{\\text{KL}}(P \\ || \\ Q) = \\sum_{x \\in \\mathcal{X}} P(x) \\log \\left( \\frac{P(x)}{Q(x)} \\right).$$\n",
    "Let $D_{\\text{O}}$, $D_{\\min}$, $D_{26}$ and $D_{\\max}$ denote the 4 adjacent datasets. We need to verify that\n",
    "$$ D_{\\text{KL}}( \\text{A}(D_{\\text{O}}) \\ || \\ \\text{A}(D_{\\text{X}}) ) < \\epsilon, $$\n",
    "for all $D_{\\text{X}} \\in \\{ D_{\\min}, D_{26}, D_{\\max} \\}$.\n",
    "\n",
    "I will utilize the function `scipy.stats.entropy` ([docs](https://docs.scipy.org/doc/scipy/reference/generated/scipy.stats.entropy.html)) to calculate $D_{\\text{KL}}$ per the definition above:"
   ],
   "metadata": {
    "collapsed": false
   }
  },
  {
   "cell_type": "code",
   "execution_count": 4,
   "outputs": [],
   "source": [
    "def validate_group(group_name, epsilon):\n",
    "    # Calculate frequency of each %.2f result (bin):\n",
    "    orig_bins, orig_freq = np.unique(results_rounded['original'], return_counts=True)\n",
    "    nebr_bins, nebr_freq = np.unique(results_rounded[group_name], return_counts=True)\n",
    "\n",
    "    # Calculate vector of frequencies over common %.2f results (bins):\n",
    "    orig_v = orig_freq[np.nonzero(np.in1d(orig_bins, nebr_bins))[0]]  # per https://stackoverflow.com/a/2333682\n",
    "    nebr_v = nebr_freq[np.nonzero(np.in1d(nebr_bins, orig_bins))[0]]\n",
    "\n",
    "    return entropy(orig_v, nebr_v) < epsilon"
   ],
   "metadata": {
    "collapsed": false
   }
  },
  {
   "cell_type": "markdown",
   "source": [
    "Run the check for all 3 groups:"
   ],
   "metadata": {
    "collapsed": false
   }
  },
  {
   "cell_type": "code",
   "execution_count": 5,
   "outputs": [
    {
     "name": "stdout",
     "output_type": "stream",
     "text": [
      "{'sans_oldest': True, 'sans_26': True, 'sans_youngest': True}\n"
     ]
    }
   ],
   "source": [
    "print({name: validate_group(name, 0.5) for name in ['sans_oldest', 'sans_26', 'sans_youngest']})"
   ],
   "metadata": {
    "collapsed": false
   }
  }
 ],
 "metadata": {
  "kernelspec": {
   "display_name": "Python 3",
   "language": "python",
   "name": "python3"
  },
  "language_info": {
   "codemirror_mode": {
    "name": "ipython",
    "version": 2
   },
   "file_extension": ".py",
   "mimetype": "text/x-python",
   "name": "python",
   "nbconvert_exporter": "python",
   "pygments_lexer": "ipython2",
   "version": "2.7.6"
  }
 },
 "nbformat": 4,
 "nbformat_minor": 0
}
