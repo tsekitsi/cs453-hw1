{
 "cells": [
  {
   "cell_type": "code",
   "execution_count": 1,
   "metadata": {
    "collapsed": true
   },
   "outputs": [],
   "source": [
    "from helpers.read_dataset import *\n",
    "from scipy.stats import entropy\n",
    "import numpy as np"
   ]
  },
  {
   "cell_type": "code",
   "execution_count": 2,
   "outputs": [],
   "source": [
    "original = read_dataset()"
   ],
   "metadata": {
    "collapsed": false
   }
  },
  {
   "cell_type": "code",
   "execution_count": 3,
   "outputs": [],
   "source": [
    "def query_average(table, epsilon, times):\n",
    "    sens = {'count': 1, 'sum': 125}\n",
    "\n",
    "    above25 = table[table['age'] > 25]\n",
    "\n",
    "    # Query the count of individuals with age>25:\n",
    "    count_noisy = above25.shape[0] + np.random.laplace(loc=0, scale=sens['count']/(epsilon/2.0), size=times)\n",
    "\n",
    "    # Query the sum of the ages of individuals with age>25:\n",
    "    sum_noisy = above25['age'].sum() + np.random.laplace(loc=0, scale=sens['sum']/(epsilon/2.0), size=times)\n",
    "\n",
    "    return sum_noisy / count_noisy"
   ],
   "metadata": {
    "collapsed": false
   }
  },
  {
   "cell_type": "markdown",
   "source": [
    "Generate 1,000 results for the query over each of three other datasets, with $\\epsilon=1$:"
   ],
   "metadata": {
    "collapsed": false
   }
  },
  {
   "cell_type": "code",
   "execution_count": 4,
   "outputs": [],
   "source": [
    "# Define neighboring groups:\n",
    "groups = {\n",
    "    'original': original,\n",
    "    'sans_oldest': original.drop(index=original['age'].idxmax()),  # removing a record with the oldest age.\n",
    "    'sans_26': original[original['age'] != 26],  # removing any record with age 26.\n",
    "    'sans_youngest': original[original['age'] != original['age'].min()]  # removing any record with the youngest age.\n",
    "}\n",
    "\n",
    "# Generate 1,000 results of the query for each group:\n",
    "results = {group_name: query_average(group_data, 1.0, 1000) for group_name, group_data in groups.items()}"
   ],
   "metadata": {
    "collapsed": false
   }
  },
  {
   "cell_type": "markdown",
   "source": [
    "Save the results into a csv file:"
   ],
   "metadata": {
    "collapsed": false
   }
  },
  {
   "cell_type": "code",
   "execution_count": 5,
   "outputs": [],
   "source": [
    "pd.DataFrame(results).to_csv('hw1-ii-3.csv', index=False)"
   ],
   "metadata": {
    "collapsed": false
   }
  },
  {
   "cell_type": "markdown",
   "source": [
    "Round each number to two decimal places:"
   ],
   "metadata": {
    "collapsed": false
   }
  },
  {
   "cell_type": "code",
   "execution_count": 6,
   "outputs": [],
   "source": [
    "results_rounded = {group_name: np.array(results).round(2) for group_name, results in results.items()}"
   ],
   "metadata": {
    "collapsed": false
   }
  },
  {
   "cell_type": "markdown",
   "source": [
    "Define validation measure:"
   ],
   "metadata": {
    "collapsed": false
   }
  },
  {
   "cell_type": "code",
   "execution_count": 7,
   "outputs": [],
   "source": [
    "def validate_group(group_name, epsilon):\n",
    "    # Calculate frequency of each %.2f result (bin):\n",
    "    orig_bins, orig_freq = np.unique(results_rounded['original'], return_counts=True)\n",
    "    nebr_bins, nebr_freq = np.unique(results_rounded[group_name], return_counts=True)\n",
    "\n",
    "    # Calculate vector of frequencies over common %.2f results (bins):\n",
    "    orig_v = orig_freq[np.nonzero(np.in1d(orig_bins, nebr_bins))[0]]  # per https://stackoverflow.com/a/2333682\n",
    "    nebr_v = nebr_freq[np.nonzero(np.in1d(nebr_bins, orig_bins))[0]]\n",
    "\n",
    "    return entropy(orig_v, nebr_v) < epsilon"
   ],
   "metadata": {
    "collapsed": false
   }
  },
  {
   "cell_type": "markdown",
   "source": [
    "Run the check for all 3 groups:"
   ],
   "metadata": {
    "collapsed": false
   }
  },
  {
   "cell_type": "code",
   "execution_count": 8,
   "outputs": [
    {
     "name": "stdout",
     "output_type": "stream",
     "text": [
      "{'sans_oldest': True, 'sans_26': True, 'sans_youngest': True}\n"
     ]
    }
   ],
   "source": [
    "print({name: validate_group(name, 1.0) for name in ['sans_oldest', 'sans_26', 'sans_youngest']})"
   ],
   "metadata": {
    "collapsed": false
   }
  }
 ],
 "metadata": {
  "kernelspec": {
   "display_name": "Python 3",
   "language": "python",
   "name": "python3"
  },
  "language_info": {
   "codemirror_mode": {
    "name": "ipython",
    "version": 2
   },
   "file_extension": ".py",
   "mimetype": "text/x-python",
   "name": "python",
   "nbconvert_exporter": "python",
   "pygments_lexer": "ipython2",
   "version": "2.7.6"
  }
 },
 "nbformat": 4,
 "nbformat_minor": 0
}
