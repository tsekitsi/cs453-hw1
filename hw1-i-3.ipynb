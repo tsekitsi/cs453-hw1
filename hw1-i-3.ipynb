{
 "cells": [
  {
   "cell_type": "code",
   "execution_count": 1,
   "metadata": {
    "collapsed": true
   },
   "outputs": [],
   "source": [
    "from hw1_i_2 import k_anonymize\n",
    "from helpers.json_path2dict import *\n",
    "from helpers.read_dataset import *"
   ]
  },
  {
   "cell_type": "markdown",
   "source": [
    "Define function for Distortion:"
   ],
   "metadata": {
    "collapsed": false
   }
  },
  {
   "cell_type": "code",
   "execution_count": 2,
   "outputs": [],
   "source": [
    "def distortion(levels):\n",
    "    numerator = sum([v[0]/v[1] for k, v in levels.items()])\n",
    "    denominator = len(levels)\n",
    "    return numerator/denominator"
   ],
   "metadata": {
    "collapsed": false
   }
  },
  {
   "cell_type": "markdown",
   "source": [
    "Define function for Precision:"
   ],
   "metadata": {
    "collapsed": false
   }
  },
  {
   "cell_type": "code",
   "execution_count": 3,
   "outputs": [],
   "source": [
    "def precision(num_rows_in_pt, num_rows_in_gt, levels):\n",
    "    denominator = num_rows_in_pt * len(levels)\n",
    "\n",
    "    sum1 = sum([v[0]/v[1] for k, v in levels.items()])\n",
    "    numerator = num_rows_in_gt * sum1\n",
    "\n",
    "    return 1 - numerator/denominator"
   ],
   "metadata": {
    "collapsed": false
   }
  },
  {
   "cell_type": "markdown",
   "source": [
    "Read the data and add record-specific anonymity requirements:"
   ],
   "metadata": {
    "collapsed": false
   }
  },
  {
   "cell_type": "code",
   "execution_count": 4,
   "outputs": [],
   "source": [
    "private_table = read_dataset()\n",
    "private_table['record_k'] = 2"
   ],
   "metadata": {
    "collapsed": false
   }
  },
  {
   "cell_type": "markdown",
   "source": [
    "Run the heuristic k-anonymity algorithm for different values of k:"
   ],
   "metadata": {
    "collapsed": false
   }
  },
  {
   "cell_type": "code",
   "execution_count": null,
   "outputs": [],
   "source": [
    "quasi_ids, hierarchies = zip(*json_path2dict('hw1-i-1.json').items())\n",
    "\n",
    "# Warning! Takes a while... (1-2 min?)\n",
    "generalized_table2, k_achieved2, levels2 = k_anonymize(private_table, 2, 'record_k', quasi_ids, hierarchies)\n",
    "generalized_table4, k_achieved4, levels4 = k_anonymize(private_table, 4, 'record_k', quasi_ids, hierarchies)\n",
    "generalized_table8, k_achieved8, levels8 = k_anonymize(private_table, 8, 'record_k', quasi_ids, hierarchies)\n",
    "generalized_table16, k_achieved16, levels16 = k_anonymize(private_table, 16, 'record_k', quasi_ids, hierarchies)"
   ],
   "metadata": {
    "collapsed": false,
    "pycharm": {
     "is_executing": true
    }
   }
  },
  {
   "cell_type": "code",
   "execution_count": 6,
   "outputs": [
    {
     "name": "stdout",
     "output_type": "stream",
     "text": [
      "k=2 --> Distortion(GT) = 0.75; Precision(GT) = 0.25\n",
      "k=4 --> Distortion(GT) = 0.75; Precision(GT) = 0.25\n",
      "k=8 --> Distortion(GT) = 0.75; Precision(GT) = 0.25\n",
      "k=16 --> Distortion(GT) = 0.8125; Precision(GT) = 0.1875\n"
     ]
    }
   ],
   "source": [
    "print('k=2 --> Distortion(GT) = {}; Precision(GT) = {}'.format(\n",
    "    distortion(levels2), precision(private_table.shape[0], generalized_table2.shape[0], levels2)\n",
    "))\n",
    "print('k=4 --> Distortion(GT) = {}; Precision(GT) = {}'.format(\n",
    "   distortion(levels4), precision(private_table.shape[0], generalized_table4.shape[0], levels4)\n",
    "))\n",
    "print('k=8 --> Distortion(GT) = {}; Precision(GT) = {}'.format(\n",
    "    distortion(levels8), precision(private_table.shape[0], generalized_table8.shape[0], levels8)\n",
    "))\n",
    "print('k=16 --> Distortion(GT) = {}; Precision(GT) = {}'.format(\n",
    "    distortion(levels16), precision(private_table.shape[0], generalized_table16.shape[0], levels16)\n",
    "))"
   ],
   "metadata": {
    "collapsed": false
   }
  }
 ],
 "metadata": {
  "kernelspec": {
   "display_name": "Python 3",
   "language": "python",
   "name": "python3"
  },
  "language_info": {
   "codemirror_mode": {
    "name": "ipython",
    "version": 2
   },
   "file_extension": ".py",
   "mimetype": "text/x-python",
   "name": "python",
   "nbconvert_exporter": "python",
   "pygments_lexer": "ipython2",
   "version": "2.7.6"
  }
 },
 "nbformat": 4,
 "nbformat_minor": 0
}
