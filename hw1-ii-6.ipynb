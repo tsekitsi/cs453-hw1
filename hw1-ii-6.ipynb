{
 "cells": [
  {
   "cell_type": "code",
   "execution_count": 1,
   "metadata": {
    "collapsed": true
   },
   "outputs": [],
   "source": [
    "from scipy.stats import entropy\n",
    "import pandas as pd\n",
    "import numpy as np"
   ]
  },
  {
   "cell_type": "markdown",
   "source": [
    "Load the results of part 5 into a pandas.DataFrame:"
   ],
   "metadata": {
    "collapsed": false
   }
  },
  {
   "cell_type": "code",
   "execution_count": 2,
   "outputs": [],
   "source": [
    "results = pd.read_csv('hw1-ii-5.csv', index_col=[0])"
   ],
   "metadata": {
    "collapsed": false
   }
  },
  {
   "cell_type": "markdown",
   "source": [
    "Define validation measure:"
   ],
   "metadata": {
    "collapsed": false
   }
  },
  {
   "cell_type": "code",
   "execution_count": 3,
   "outputs": [],
   "source": [
    "def validate_group(group_name, epsilon):\n",
    "    # Calculate frequency of each %.2f result (bin):\n",
    "    orig_freq = results['original']\n",
    "    nebr_freq = results[group_name]\n",
    "\n",
    "    # Keep only the common categories:\n",
    "    common_keys = nebr_freq[np.nan_to_num(nebr_freq) != 0].keys()\n",
    "    orig_v = orig_freq[common_keys]\n",
    "    nebr_v = nebr_freq[common_keys]\n",
    "\n",
    "    return entropy(orig_v, nebr_v) < epsilon"
   ],
   "metadata": {
    "collapsed": false
   }
  },
  {
   "cell_type": "markdown",
   "source": [
    "Run the check for all 3 groups:"
   ],
   "metadata": {
    "collapsed": false
   }
  },
  {
   "cell_type": "code",
   "execution_count": 4,
   "outputs": [
    {
     "name": "stdout",
     "output_type": "stream",
     "text": [
      "{'sans_1st_freq': True, 'sans_2nd_freq': True, 'sans_1st_infr': True}\n"
     ]
    }
   ],
   "source": [
    "print({name: validate_group(name, 0.5) for name in ['sans_1st_freq', 'sans_2nd_freq', 'sans_1st_infr']})"
   ],
   "metadata": {
    "collapsed": false
   }
  }
 ],
 "metadata": {
  "kernelspec": {
   "display_name": "Python 3",
   "language": "python",
   "name": "python3"
  },
  "language_info": {
   "codemirror_mode": {
    "name": "ipython",
    "version": 2
   },
   "file_extension": ".py",
   "mimetype": "text/x-python",
   "name": "python",
   "nbconvert_exporter": "python",
   "pygments_lexer": "ipython2",
   "version": "2.7.6"
  }
 },
 "nbformat": 4,
 "nbformat_minor": 0
}
